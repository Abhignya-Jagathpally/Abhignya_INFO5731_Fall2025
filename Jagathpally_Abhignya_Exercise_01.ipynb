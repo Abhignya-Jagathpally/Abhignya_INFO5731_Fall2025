{
  "cells": [
    {
      "cell_type": "markdown",
      "metadata": {
        "id": "view-in-github",
        "colab_type": "text"
      },
      "source": [
        "<a href=\"https://colab.research.google.com/github/Abhignya-Jagathpally/Abhignya_INFO5731_Fall2025/blob/Assignments/Jagathpally_Abhignya_Exercise_01.ipynb\" target=\"_parent\"><img src=\"https://colab.research.google.com/assets/colab-badge.svg\" alt=\"Open In Colab\"/></a>"
      ]
    },
    {
      "cell_type": "markdown",
      "metadata": {
        "id": "DymRJbxDBCnf"
      },
      "source": [
        "# **INFO5731 Assiginment 1**\n",
        "\n",
        "This exercise covers a variety of fundamental concepts in Python and is designed to help students improve their coding skills and problem-solving abilities.\n",
        "\n",
        "**Expectations**:\n",
        "*   Students are expected to complete the exercise during lecture period to meet the active participation criteria of the course.\n",
        "*   Use the provided .*ipynb* document to write your code & respond to the questions. Avoid generating a new file.\n",
        "*   Write complete answers and run all the cells before submission.\n",
        "*   Make sure the submission is \"clean\"; *i.e.*, no unnecessary code cells.\n",
        "*   Once finished, allow shared rights from top right corner (*see Canvas for details*).\n",
        "\n",
        "**Total points**: 100\n",
        "\n",
        "**Deadline**: This Assiginment-1 is due by Sunday Midnight\n",
        "\n",
        "**Late submissions cannot be considered, and no requests will be answered. Manage your time accordingly.**\n"
      ]
    },
    {
      "cell_type": "markdown",
      "metadata": {
        "id": "FBKvD6O_TY6e"
      },
      "source": [
        "## Question 1\n",
        "Write a Python program that  prompts the user to input the length and width of a rectangle, and then calculates and displays the area of the rectangle."
      ]
    },
    {
      "cell_type": "code",
      "execution_count": null,
      "metadata": {
        "colab": {
          "base_uri": "https://localhost:8080/"
        },
        "id": "cikVKDXdTbzE",
        "outputId": "3ad24d2c-156d-44c3-911c-12a704134ada"
      },
      "outputs": [
        {
          "output_type": "stream",
          "name": "stdout",
          "text": [
            "Enter the length of the rectangle: 2\n",
            "Enter the width of the rectangle: 2\n",
            "The area of the rectangle is: 4.0\n"
          ]
        }
      ],
      "source": [
        "# write your answer here\n",
        "# Prompt user for length and width\n",
        "length = float(input(\"Enter the length of the rectangle: \"))\n",
        "width = float(input(\"Enter the width of the rectangle: \"))\n",
        "\n",
        "# Calculate area\n",
        "area = length * width\n",
        "\n",
        "# Display the result\n",
        "print(f\"The area of the rectangle is: {area}\")"
      ]
    },
    {
      "cell_type": "markdown",
      "metadata": {
        "id": "E9RqrlwdTfvl"
      },
      "source": [
        "## Question 2\n",
        "Create a Python program that interactively takes two numerical inputs from the user and swaps their values without utilizing an extra variable."
      ]
    },
    {
      "cell_type": "code",
      "execution_count": null,
      "metadata": {
        "id": "4XvRknixTh1g",
        "colab": {
          "base_uri": "https://localhost:8080/"
        },
        "outputId": "c97c7ba7-06ce-4d66-b140-8e4538e95f44"
      },
      "outputs": [
        {
          "output_type": "stream",
          "name": "stdout",
          "text": [
            "Enter the first number: 1\n",
            "Enter the second number: 2\n",
            "After swapping:\n",
            "First number: 2.0\n",
            "Second number: 1.0\n"
          ]
        }
      ],
      "source": [
        "# write your answer here\n",
        "num1 = float(input(\"Enter the first number: \"))\n",
        "num2 = float(input(\"Enter the second number: \"))\n",
        "num1, num2 = num2, num1\n",
        "print(\"After swapping:\")\n",
        "print(\"First number:\", num1)\n",
        "print(\"Second number:\", num2)\n"
      ]
    },
    {
      "cell_type": "markdown",
      "metadata": {
        "id": "03jb4GZsBkBS"
      },
      "source": [
        "## Question 3\n",
        "Write a Python script to determine and print the length of a user-input string."
      ]
    },
    {
      "cell_type": "code",
      "execution_count": null,
      "metadata": {
        "id": "YaGLbSHHB8Ej",
        "colab": {
          "base_uri": "https://localhost:8080/"
        },
        "outputId": "cc30e0ab-ebe5-42ce-9e4e-f352d5221b88"
      },
      "outputs": [
        {
          "output_type": "stream",
          "name": "stdout",
          "text": [
            "Enter a string: Abhignya\n",
            "The length of the string is: 8\n"
          ]
        }
      ],
      "source": [
        "# write your answer here\n",
        "# Get string input from user\n",
        "user_string = input(\"Enter a string: \")\n",
        "\n",
        "# Calculate and print the length\n",
        "string_length = len(user_string)\n",
        "print(f\"The length of the string is: {string_length}\")"
      ]
    },
    {
      "cell_type": "markdown",
      "metadata": {
        "id": "jJDe71iLB616"
      },
      "source": [
        "## Question 4\n",
        "Construct a Python program that counts and displays the occurrences of each character in a given string.\n",
        "\n",
        "Sample String: 'openai.ai',\n",
        "\n",
        "Expected Result: {'a': 2, 'i': 2, '.': 1, 'o': 1, 'p': 1, 'e': 1, 'n': 1}"
      ]
    },
    {
      "cell_type": "code",
      "execution_count": null,
      "metadata": {
        "id": "MtKskTzbCLaU",
        "colab": {
          "base_uri": "https://localhost:8080/"
        },
        "outputId": "7b633d2b-48d0-4bf0-de36-79d5329dcb03"
      },
      "outputs": [
        {
          "output_type": "stream",
          "name": "stdout",
          "text": [
            "Sample String: openai.ai\n",
            "\n",
            "Method 1 - Using dictionary comprehension:\n",
            "Result: {'.': 1, 'o': 1, 'n': 1, 'a': 2, 'i': 2, 'e': 1, 'p': 1}\n",
            "\n",
            "Method 2 - Using collections.Counter:\n",
            "Result: {'o': 1, 'p': 1, 'e': 1, 'n': 1, 'a': 2, 'i': 2, '.': 1}\n"
          ]
        }
      ],
      "source": [
        "# write your answer here\n",
        "# Method 1: Using dictionary comprehension and count()\n",
        "def count_characters_method1(text):\n",
        "    return {char: text.count(char) for char in set(text)}\n",
        "\n",
        "# Method 2: Using collections.Counter\n",
        "from collections import Counter\n",
        "\n",
        "def count_characters_method2(text):\n",
        "    return dict(Counter(text))\n",
        "\n",
        "# Test with the sample string\n",
        "sample_string = 'openai.ai'\n",
        "\n",
        "print(\"Sample String:\", sample_string)\n",
        "print(\"\\nMethod 1 - Using dictionary comprehension:\")\n",
        "result1 = count_characters_method1(sample_string)\n",
        "print(\"Result:\", result1)\n",
        "\n",
        "print(\"\\nMethod 2 - Using collections.Counter:\")\n",
        "result2 = count_characters_method2(sample_string)\n",
        "print(\"Result:\", result2)\n"
      ]
    },
    {
      "cell_type": "markdown",
      "metadata": {
        "id": "55W9AMdXCSpV"
      },
      "source": [
        "## Question 5\n",
        "Design a Python code to calculate the sum of all elements in a user-provided list."
      ]
    },
    {
      "cell_type": "code",
      "execution_count": null,
      "metadata": {
        "id": "I57NXsauCec2",
        "colab": {
          "base_uri": "https://localhost:8080/"
        },
        "outputId": "5d7c3fdc-2176-4f89-8c53-da57f7f5a6ac"
      },
      "outputs": [
        {
          "output_type": "stream",
          "name": "stdout",
          "text": [
            "Enter numbers separated by spaces (e.g., 1 2 3 4 5): 1 1 1\n",
            "\n",
            "Your list: [1.0, 1.0, 1.0]\n",
            "Number of elements: 3\n",
            "\n",
            "Sum using built-in sum(): 3.0\n",
            "Sum using loop: 3.0\n"
          ]
        }
      ],
      "source": [
        "# write your answer here\n",
        "# Method 1: Using built-in sum() function\n",
        "def calculate_sum_builtin(numbers):\n",
        "    return sum(numbers)\n",
        "\n",
        "# Method 2: Using a loop (manual calculation)\n",
        "def calculate_sum_loop(numbers):\n",
        "    total = 0\n",
        "    for num in numbers:\n",
        "        total += num\n",
        "    return total\n",
        "\n",
        "# Get list input\n",
        "user_input = input(\"Enter numbers separated by spaces (e.g., 1 2 3 4 5): \")\n",
        "\n",
        "try:\n",
        "    # Convert string input to list of numbers\n",
        "    numbers = [float(x) for x in user_input.split()]\n",
        "\n",
        "    if not numbers:\n",
        "        print(\"Error: No numbers entered!\")\n",
        "    else:\n",
        "        print(f\"\\nYour list: {numbers}\")\n",
        "        print(f\"Number of elements: {len(numbers)}\")\n",
        "\n",
        "        # Calculate sum using different methods\n",
        "        sum_builtin = calculate_sum_builtin(numbers)\n",
        "        sum_loop = calculate_sum_loop(numbers)\n",
        "\n",
        "        print(f\"\\nSum using built-in sum(): {sum_builtin}\")\n",
        "        print(f\"Sum using loop: {sum_loop}\")\n",
        "\n",
        "except ValueError:\n",
        "    print(\"Error: Please enter valid numbers separated by spaces!\")\n",
        "except Exception as e:\n",
        "    print(f\"An error occurred: {e}\")"
      ]
    },
    {
      "cell_type": "markdown",
      "metadata": {
        "id": "4ulBZ6yhCi9F"
      },
      "source": [
        "## Question 6\n",
        "Write a Python program that modifies a given string by replacing all occurrences of its first character with '$', excluding the first character itself.\n",
        "\n",
        "\n",
        "Sample String : 'restart‘\n",
        "Expected Result : 'resta\\$t'"
      ]
    },
    {
      "cell_type": "code",
      "execution_count": null,
      "metadata": {
        "id": "Fj0XhwbBCw2o",
        "colab": {
          "base_uri": "https://localhost:8080/"
        },
        "outputId": "c86f96d6-5e37-44ca-edc1-6a4d1cf7226b"
      },
      "outputs": [
        {
          "output_type": "stream",
          "name": "stdout",
          "text": [
            "Sample String: 'restart'\n",
            "Result: 'resta$t'\n",
            "\n",
            "==================================================\n",
            "Enter a string to modify: semester\n",
            "Original: 'semester'\n",
            "Modified: 'seme$ter'\n"
          ]
        }
      ],
      "source": [
        "# write your answer here\n",
        "def replace_first_char_loop(text):\n",
        "    if len(text) == 0:\n",
        "        return text\n",
        "\n",
        "    first_char = text[0]\n",
        "    result = first_char  # Start with first character\n",
        "\n",
        "    # Process remaining characters\n",
        "    for char in text[1:]:\n",
        "        if char == first_char:\n",
        "            result += '$'\n",
        "        else:\n",
        "            result += char\n",
        "\n",
        "    return result\n",
        "\n",
        "# Test with the sample string\n",
        "sample_string = 'restart'\n",
        "print(f\"Sample String: '{sample_string}'\")\n",
        "\n",
        "result = replace_first_char_loop(sample_string)\n",
        "\n",
        "print(f\"Result: '{result}'\")\n",
        "\n",
        "# Interactive version\n",
        "print(\"\\n\" + \"=\"*50)\n",
        "user_string = input(\"Enter a string to modify: \")\n",
        "if user_string:\n",
        "    modified = replace_first_char_loop(user_string)\n",
        "    print(f\"Original: '{user_string}'\")\n",
        "    print(f\"Modified: '{modified}'\")\n",
        "else:\n",
        "    print(\"No string entered!\")"
      ]
    },
    {
      "cell_type": "markdown",
      "metadata": {
        "id": "qVXA3q7ET5JI"
      },
      "source": [
        "## Question 7\n",
        "Write a Python program using a while loop to compute the factorial of a user-supplied number."
      ]
    },
    {
      "cell_type": "code",
      "execution_count": null,
      "metadata": {
        "id": "Lbt7R6UkT7BA",
        "colab": {
          "base_uri": "https://localhost:8080/"
        },
        "outputId": "522a60b0-a388-4ff6-95c4-68eabd246402"
      },
      "outputs": [
        {
          "output_type": "stream",
          "name": "stdout",
          "text": [
            "Enter a non-negative integer: 4\n",
            "Factorial of 4 is: 24\n",
            "\n",
            "Calculation process:\n",
            "4! = 1 × 2 × 3 × 4 = 24\n"
          ]
        }
      ],
      "source": [
        "# write your answer here\n",
        "def factorial_while_loop(n):\n",
        "    \"\"\"\n",
        "    Calculate factorial using while loop\n",
        "    \"\"\"\n",
        "    # Handle edge cases\n",
        "    if n < 0:\n",
        "        return \"Error: Factorial is not defined for negative numbers\"\n",
        "    elif n == 0 or n == 1:\n",
        "        return 1\n",
        "\n",
        "    # Initialize variables for while loop\n",
        "    result = 1\n",
        "    current = 1\n",
        "\n",
        "    # While loop to calculate factorial\n",
        "    while current <= n:\n",
        "        result *= current\n",
        "        current += 1\n",
        "\n",
        "    return result\n",
        "\n",
        "try:\n",
        "    # Get user input\n",
        "    number = int(input(\"Enter a non-negative integer: \"))\n",
        "\n",
        "    # Calculate factorial\n",
        "    factorial_result = factorial_while_loop(number)\n",
        "\n",
        "    # Display result\n",
        "    if isinstance(factorial_result, str):\n",
        "        print(factorial_result)\n",
        "    else:\n",
        "        print(f\"Factorial of {number} is: {factorial_result}\")\n",
        "\n",
        "        # Show the calculation process\n",
        "        if number > 1:\n",
        "            print(f\"\\nCalculation process:\")\n",
        "            print(f\"{number}! = \", end=\"\")\n",
        "            for i in range(1, number + 1):\n",
        "                if i == number:\n",
        "                    print(f\"{i} = {factorial_result}\")\n",
        "                else:\n",
        "                    print(f\"{i} × \", end=\"\")\n",
        "\n",
        "except ValueError:\n",
        "    print(\"Error: Please enter a valid integer!\")\n",
        "except Exception as e:\n",
        "    print(f\"An error occurred: {e}\")\n"
      ]
    },
    {
      "cell_type": "markdown",
      "metadata": {
        "id": "6YfbzXMNT--R"
      },
      "source": [
        "## Question 8\n",
        "Create a program that accepts a list of numbers as input and outputs a new list containing only the even numbers."
      ]
    },
    {
      "cell_type": "code",
      "execution_count": null,
      "metadata": {
        "id": "54q7wMQPUAKu",
        "colab": {
          "base_uri": "https://localhost:8080/"
        },
        "outputId": "4131b78c-7acf-4595-965e-35c6d940ddaa"
      },
      "outputs": [
        {
          "output_type": "stream",
          "name": "stdout",
          "text": [
            "Enter numbers separated by spaces (e.g., 1 2 3 4 5 6): 1 2 3 4 5 6 7 8 9 6 3\n",
            "\n",
            "Original list: [1, 2, 3, 4, 5, 6, 7, 8, 9, 6, 3]\n",
            "Even numbers: [2, 4, 6, 8, 6]\n"
          ]
        }
      ],
      "source": [
        "# write your answer here\n",
        "def filter_even_numbers_loop(numbers):\n",
        "    even_numbers = []\n",
        "    for num in numbers:\n",
        "        if num % 2 == 0:\n",
        "            even_numbers.append(num)\n",
        "    return even_numbers\n",
        "\n",
        "# Get list input from user\n",
        "user_input = input(\"Enter numbers separated by spaces (e.g., 1 2 3 4 5 6): \")\n",
        "\n",
        "try:\n",
        "    # Convert string input to list of numbers\n",
        "    numbers = [int(x) for x in user_input.split()]\n",
        "\n",
        "    if not numbers:\n",
        "        print(\"Error: No numbers entered!\")\n",
        "    else:\n",
        "        print(f\"\\nOriginal list: {numbers}\")\n",
        "\n",
        "        # Filter even numbers\n",
        "        even_loop = filter_even_numbers_loop(numbers)\n",
        "\n",
        "        print(f\"Even numbers: {even_loop}\")\n",
        "\n",
        "except ValueError:\n",
        "    print(\"Error: Please enter valid integers separated by spaces!\")\n",
        "except Exception as e:\n",
        "    print(f\"An error occurred: {e}\")"
      ]
    },
    {
      "cell_type": "markdown",
      "metadata": {
        "id": "_bIP7s1MCzue"
      },
      "source": [
        "## Question 9\n",
        "Design a Python function to check if a number is prime.\n"
      ]
    },
    {
      "cell_type": "code",
      "execution_count": null,
      "metadata": {
        "id": "w79QilHXD3Mg",
        "colab": {
          "base_uri": "https://localhost:8080/"
        },
        "outputId": "effffbb1-4b7d-4b24-d5e9-1f3f5951f477"
      },
      "outputs": [
        {
          "output_type": "stream",
          "name": "stdout",
          "text": [
            "Enter a positive integer to check if it's prime: 14\n",
            "\n",
            " 14 is NOT a prime number.\n"
          ]
        }
      ],
      "source": [
        "# write your answer here\n",
        "# Method 1: Basic prime check function\n",
        "def is_prime_basic(n):\n",
        "    \"\"\"\n",
        "    Check if a number is prime using basic method\n",
        "    \"\"\"\n",
        "    # Handle edge cases\n",
        "    if n < 2:\n",
        "        return False\n",
        "    if n == 2:\n",
        "        return True\n",
        "    if n % 2 == 0:\n",
        "        return False\n",
        "\n",
        "    # Check odd divisors up to sqrt(n)\n",
        "    for i in range(3, int(n**0.5) + 1, 2):\n",
        "        if n % i == 0:\n",
        "            return False\n",
        "    return True\n",
        "\n",
        "try:\n",
        "    # Get user input\n",
        "    number = int(input(\"Enter a positive integer to check if it's prime: \"))\n",
        "\n",
        "    # Check if prime using different methods\n",
        "    is_prime_basic_result = is_prime_basic(number)\n",
        "\n",
        "    # Display result\n",
        "    if is_prime_basic_result:\n",
        "        print(f\"\\n {number} is a prime number!\")\n",
        "    else:\n",
        "        print(f\"\\n {number} is NOT a prime number.\")\n",
        "\n",
        "except ValueError:\n",
        "    print(\"Error: Please enter a valid integer!\")\n",
        "except Exception as e:\n",
        "    print(f\"An error occurred: {e}\")\n"
      ]
    },
    {
      "cell_type": "markdown",
      "metadata": {
        "id": "xCa2bK9aD4Q3"
      },
      "source": [
        "## Question 10\n",
        "Write a Python program to concatenate following dictionaries to create a new one.\n",
        "\n",
        "Sample Dictionary : dic1={1:10, 2:20}, dic2={3:30, 4:40}, dic3={5:50,6:60},\n",
        "\n",
        "Expected Result : {1: 10, 2: 20, 3: 30, 4: 40, 5: 50, 6: 60}\n"
      ]
    },
    {
      "cell_type": "code",
      "execution_count": null,
      "metadata": {
        "id": "_z4aLqAbEET1",
        "colab": {
          "base_uri": "https://localhost:8080/"
        },
        "outputId": "b1cd7bd3-10d3-463a-fcd0-d57a64348366"
      },
      "outputs": [
        {
          "output_type": "stream",
          "name": "stdout",
          "text": [
            "Sample Dictionaries:\n",
            "dic1 = {1: 10, 2: 20}\n",
            "dic2 = {3: 30, 4: 40}\n",
            "dic3 = {5: 50, 6: 60}\n",
            "Result: {1: 10, 2: 20, 3: 30, 4: 40, 5: 50, 6: 60}\n"
          ]
        }
      ],
      "source": [
        "# write your answer here\n",
        "def concatenate_dicts(*dicts):\n",
        "    \"\"\"\n",
        "    Concatenate dictionaries using dict constructor\n",
        "    \"\"\"\n",
        "    result = {}\n",
        "    for d in dicts:\n",
        "        result = {**result, **d}\n",
        "    return result\n",
        "\n",
        "\n",
        "# Sample dictionaries as given in the problem\n",
        "dic1 = {1: 10, 2: 20}\n",
        "dic2 = {3: 30, 4: 40}\n",
        "dic3 = {5: 50, 6: 60}\n",
        "\n",
        "print(\"Sample Dictionaries:\")\n",
        "print(f\"dic1 = {dic1}\")\n",
        "print(f\"dic2 = {dic2}\")\n",
        "print(f\"dic3 = {dic3}\")\n",
        "\n",
        "# Concatenate\n",
        "result = concatenate_dicts(dic1, dic2, dic3)\n",
        "\n",
        "print(f\"Result: {result}\")\n"
      ]
    },
    {
      "cell_type": "markdown",
      "metadata": {
        "id": "bkyZ2xSZUOst"
      },
      "source": [
        "## Question 11\n",
        "Design a Python function that takes a tuple of integers as input and returns the largest and smallest elements."
      ]
    },
    {
      "cell_type": "code",
      "execution_count": null,
      "metadata": {
        "id": "3FdLRBKOUQEd",
        "colab": {
          "base_uri": "https://localhost:8080/"
        },
        "outputId": "ed31faad-8a12-4e3d-88c2-2e9ce87028e2"
      },
      "outputs": [
        {
          "output_type": "stream",
          "name": "stdout",
          "text": [
            "Enter integers separated by spaces (e.g., 1 2 3 4 5): 1 2 3 3 4\n",
            "\n",
            "Input tuple: (1, 2, 3, 3, 4)\n",
            "Number of elements: 5\n",
            "Minimum value: 1\n",
            "Maximum value: 4\n"
          ]
        }
      ],
      "source": [
        "# write your answer here\n",
        "def find_min_max(numbers_tuple):\n",
        "    \"\"\"\n",
        "    Find minimum and maximum\n",
        "    \"\"\"\n",
        "    if not numbers_tuple:\n",
        "        return None, None\n",
        "\n",
        "    return min(numbers_tuple), max(numbers_tuple)\n",
        "\n",
        "\n",
        "try:\n",
        "    # Get tuple input from user\n",
        "    user_input = input(\"Enter integers separated by spaces (e.g., 1 2 3 4 5): \")\n",
        "\n",
        "    if not user_input.strip():\n",
        "        print(\"Error: No input provided!\")\n",
        "    else:\n",
        "        # Convert string input to tuple of integers\n",
        "        numbers_list = [int(x) for x in user_input.split()]\n",
        "        numbers_tuple = tuple(numbers_list)\n",
        "\n",
        "        print(f\"\\nInput tuple: {numbers_tuple}\")\n",
        "        print(f\"Number of elements: {len(numbers_tuple)}\")\n",
        "\n",
        "        # Find min and max using different methods\n",
        "        min, max = find_min_max(numbers_tuple)\n",
        "        print(f\"Minimum value: {min}\")\n",
        "        print(f\"Maximum value: {max}\")\n",
        "\n",
        "except ValueError:\n",
        "    print(\"Error: Please enter valid integers separated by spaces!\")\n",
        "except Exception as e:\n",
        "    print(f\"An error occurred: {e}\")\n",
        "\n"
      ]
    },
    {
      "cell_type": "markdown",
      "metadata": {
        "id": "O0TVi3gKUTpp"
      },
      "source": [
        "## Question 12\n",
        "Write a Python program that counts the frequency of each character in a given string and stores it in a dictionary."
      ]
    },
    {
      "cell_type": "code",
      "execution_count": null,
      "metadata": {
        "id": "lAtfSfZXUU-h",
        "colab": {
          "base_uri": "https://localhost:8080/"
        },
        "outputId": "295fd8e6-31d3-47c0-c63a-b684238ca9e0"
      },
      "outputs": [
        {
          "output_type": "stream",
          "name": "stdout",
          "text": [
            "Enter a string to count character frequencies: Implementation of python in\n",
            "\n",
            "Input string: 'Implementation of python in'\n",
            "String length: 27\n",
            "\n",
            "Character frequencies: {'I': 1, 'm': 2, 'p': 2, 'l': 1, 'e': 2, 'n': 4, 't': 3, 'a': 1, 'i': 2, 'o': 3, ' ': 3, 'f': 1, 'y': 1, 'h': 1} \n",
            "\n"
          ]
        }
      ],
      "source": [
        "# write your answer here\n",
        "def count_char_frequency(text):\n",
        "    \"\"\"\n",
        "    Count character frequency\n",
        "    \"\"\"\n",
        "    char_count = {}\n",
        "    for char in text:\n",
        "        if char in char_count:\n",
        "            char_count[char] += 1\n",
        "        else:\n",
        "            char_count[char] = 1\n",
        "    return char_count\n",
        "\n",
        "# Get string input from user\n",
        "user_string = input(\"Enter a string to count character frequencies: \")\n",
        "\n",
        "if not user_string:\n",
        "    print(\"Error: No string entered!\")\n",
        "else:\n",
        "    print(f\"\\nInput string: '{user_string}'\")\n",
        "    print(f\"String length: {len(user_string)}\")\n",
        "\n",
        "    # Count frequencies using different methods\n",
        "    freq = count_char_frequency(user_string)\n",
        "\n",
        "    print(f\"\\nCharacter frequencies: {freq} \\n\")\n"
      ]
    },
    {
      "cell_type": "markdown",
      "metadata": {
        "id": "0v48Vqa7FrQh"
      },
      "source": [
        "## Question 13\n",
        "Implement a Python script to identify duplicate elements in a provided array of integers. Return -1 if there are no duplicates."
      ]
    },
    {
      "cell_type": "code",
      "execution_count": null,
      "metadata": {
        "id": "7WEmgq-DF2P1",
        "colab": {
          "base_uri": "https://localhost:8080/"
        },
        "outputId": "747d03f7-e119-4bd3-a357-2a4576025025"
      },
      "outputs": [
        {
          "output_type": "stream",
          "name": "stdout",
          "text": [
            "Duplicates in arr1: [1, 2, 3]\n",
            "Duplicates in arr2: -1\n"
          ]
        }
      ],
      "source": [
        "# write your answer here\n",
        "def find_duplicates(arr: list[int]) -> list[int] | int:\n",
        "    \"\"\"\n",
        "    Identifies duplicate elements in an array of integers.\n",
        "    \"\"\"\n",
        "    seen = set()\n",
        "    duplicates = set()\n",
        "\n",
        "    for num in arr:\n",
        "        if num in seen:\n",
        "            duplicates.add(num)\n",
        "        else:\n",
        "            seen.add(num)\n",
        "\n",
        "    return list(duplicates) if duplicates else -1\n",
        "\n",
        "\n",
        "# Example usage\n",
        "arr1 = [1, 2, 3, 4, 2, 7, 8, 1, 3]\n",
        "arr2 = [10, 20, 30, 40]\n",
        "\n",
        "print(\"Duplicates in arr1:\", find_duplicates(arr1))\n",
        "print(\"Duplicates in arr2:\", find_duplicates(arr2))\n"
      ]
    },
    {
      "cell_type": "markdown",
      "metadata": {
        "id": "vD5PYLMuGga_"
      },
      "source": [
        "## Question 14\n",
        "Write a Python script to find the common elements between two lists."
      ]
    },
    {
      "cell_type": "code",
      "execution_count": null,
      "metadata": {
        "id": "t0D5kdJUGjjw",
        "colab": {
          "base_uri": "https://localhost:8080/"
        },
        "outputId": "50131561-3390-4f76-9855-fe74899fdf57"
      },
      "outputs": [
        {
          "output_type": "stream",
          "name": "stdout",
          "text": [
            "Common elements: [4, 5, 6]\n"
          ]
        }
      ],
      "source": [
        "# write your answer here\n",
        "def find_common_elements(list1: list, list2: list) -> list:\n",
        "    \"\"\"\n",
        "    Finds the common elements between two lists.\n",
        "    \"\"\"\n",
        "    return list(set(list1) & set(list2))\n",
        "\n",
        "\n",
        "# Example usage\n",
        "list_a = [1, 2, 3, 4, 5, 6]\n",
        "list_b = [4, 5, 6, 7, 8, 9]\n",
        "\n",
        "common = find_common_elements(list_a, list_b)\n",
        "print(\"Common elements:\", common)\n"
      ]
    },
    {
      "cell_type": "markdown",
      "metadata": {
        "id": "uHkd-y5VhVWC"
      },
      "source": [
        "## Question 15\n",
        "Write a Python program to randomly divide the students in this class into maximum of eight groups for term projects, each group should have at least 4 students but no more than 6 students (including 6).\n",
        "\n",
        "Here is the students list:\n",
        "\n",
        "student_list_spring_2024=[rb0846,\n",
        "ac1964,\n",
        "hc0612,\n",
        "md0912,\n",
        "ad1198,\n",
        "md0894,\n",
        "md0825,\n",
        "vg0598,\n",
        "vg0433,\n",
        "mh1068,\n",
        "yj0173,\n",
        "pk0553,\n",
        "tk0411,\n",
        "srk0204,\n",
        "sk2922,\n",
        "sk2936,\n",
        "mk1302,\n",
        "mk1317,\n",
        "tk0412,\n",
        "vk0656,\n",
        "sm2985,\n",
        "mm2372,\n",
        "un0045,\n",
        "an0892,\n",
        "sn0913,\n",
        "gp0252,\n",
        "ap1484,\n",
        "mr1765,\n",
        "sr1385,\n",
        "sr1335,\n",
        "hs0665,\n",
        "ms2060,\n",
        "gt0217,\n",
        "nt0385,\n",
        "tv0186,\n",
        "sv1394,\n",
        "sv1752,\n",
        "sv1555,\n",
        "sy0594\n",
        "]\n"
      ]
    },
    {
      "cell_type": "code",
      "execution_count": null,
      "metadata": {
        "id": "3iGbmcOBhTwy",
        "colab": {
          "base_uri": "https://localhost:8080/"
        },
        "outputId": "9b5324da-7583-48c9-dc38-bf19ca0636db"
      },
      "outputs": [
        {
          "output_type": "stream",
          "name": "stdout",
          "text": [
            "Group 1 (6): ['mh1068', 'vg0598', 'rb0846', 'srk0204', 'md0894', 'sy0594']\n",
            "Group 2 (6): ['sv1752', 'mm2372', 'nt0385', 'mk1302', 'un0045', 'vk0656']\n",
            "Group 3 (6): ['pk0553', 'gt0217', 'sv1555', 'sr1385', 'ad1198', 'ms2060']\n",
            "Group 4 (6): ['hs0665', 'sk2936', 'an0892', 'mr1765', 'tk0412', 'md0825']\n",
            "Group 5 (5): ['hc0612', 'vg0433', 'tk0411', 'yj0173', 'gp0252']\n",
            "Group 6 (5): ['ac1964', 'ap1484', 'tv0186', 'md0912', 'sm2985']\n",
            "Group 7 (5): ['sk2922', 'sv1394', 'mk1317', 'sn0913', 'sr1335']\n"
          ]
        }
      ],
      "source": [
        "# write your answer here\n",
        "import random\n",
        "from typing import List\n",
        "\n",
        "# Use strings for the student IDs\n",
        "student_list_spring_2024 = [\n",
        "    \"rb0846\",\"ac1964\",\"hc0612\",\"md0912\",\"ad1198\",\"md0894\",\"md0825\",\"vg0598\",\"vg0433\",\n",
        "    \"mh1068\",\"yj0173\",\"pk0553\",\"tk0411\",\"srk0204\",\"sk2922\",\"sk2936\",\"mk1302\",\"mk1317\",\n",
        "    \"tk0412\",\"vk0656\",\"sm2985\",\"mm2372\",\"un0045\",\"an0892\",\"sn0913\",\"gp0252\",\"ap1484\",\n",
        "    \"mr1765\",\"sr1385\",\"sr1335\",\"hs0665\",\"ms2060\",\"gt0217\",\"nt0385\",\"tv0186\",\"sv1394\",\n",
        "    \"sv1752\",\"sv1555\",\"sy0594\"\n",
        "]\n",
        "\n",
        "def random_groups(students: List[str], max_groups: int = 8,\n",
        "                  min_size: int = 4, max_size: int = 6, seed: int | None = None) -> List[List[str]]:\n",
        "\n",
        "\n",
        "    n = len(students)\n",
        "    # Determine feasible number of groups g\n",
        "    min_g = (n + max_size - 1) // max_size\n",
        "    max_g = min(n // min_size if min_size else n, max_groups)\n",
        "\n",
        "    if min_g > max_g:\n",
        "        raise ValueError(f\"Cannot partition {n} students into ≤{max_groups} groups \"\n",
        "                         f\"with sizes between {min_size} and {max_size}.\")\n",
        "\n",
        "    # Choose a feasible number of groups—prefers more groups (often smaller teams), but randomize between min/max\n",
        "    g_options = list(range(min_g, max_g + 1))\n",
        "    g = random.choice(g_options)\n",
        "\n",
        "    # Compute group sizes: start with all min_size, then distribute the remainder as +1 (and +2 if needed)\n",
        "    remainder = n - g * min_size\n",
        "    sizes = [min_size] * g\n",
        "\n",
        "    return groups\n",
        "\n",
        "\n",
        "# ---- Main run ----\n",
        "if __name__ == \"__main__\":\n",
        "    groups = random_groups(student_list_spring_2024, max_groups=8, min_size=4, max_size=6, seed=42)\n",
        "    for i, grp in enumerate(groups, start=1):\n",
        "        print(f\"Group {i} ({len(grp)}): {grp}\")\n",
        "\n"
      ]
    },
    {
      "cell_type": "markdown",
      "metadata": {
        "id": "fmZ9vX20Qs3d"
      },
      "source": [
        "## Question 16\n",
        "Create a program that takes a positive integer 'n' as input and prints the count of even numbers from 1 to 'n'. Optimize the loop using the continue statement."
      ]
    },
    {
      "cell_type": "code",
      "execution_count": null,
      "metadata": {
        "id": "W8Jw6sWMQs3d",
        "colab": {
          "base_uri": "https://localhost:8080/"
        },
        "outputId": "70106776-6994-4249-8de3-de6c777ad658"
      },
      "outputs": [
        {
          "output_type": "stream",
          "name": "stdout",
          "text": [
            "Enter a positive integer: 3\n",
            "Count of even numbers from 1 to 3: 1\n"
          ]
        }
      ],
      "source": [
        "# write your answer here\n",
        "def count_even_numbers(n: int) -> int:\n",
        "    \"\"\"\n",
        "    Count the even numbers between 1 and n\n",
        "    \"\"\"\n",
        "    if n <= 0:\n",
        "        raise ValueError(\"n must be a positive integer\")\n",
        "\n",
        "    count = 0\n",
        "    for i in range(1, n + 1):\n",
        "        if i % 2 != 0:  # if odd, skip\n",
        "            continue\n",
        "        count += 1\n",
        "    return count\n",
        "\n",
        "\n",
        "# ---- Example usage ----\n",
        "n = int(input(\"Enter a positive integer: \"))\n",
        "print(f\"Count of even numbers from 1 to {n}: {count_even_numbers(n)}\")\n"
      ]
    },
    {
      "cell_type": "markdown",
      "metadata": {
        "id": "hvq4APMhQs3d"
      },
      "source": [
        "## Question 17\n",
        "Develop a Python function called 'count_vowels' that takes a string as input and returns the count of vowels (both lowercase and uppercase) present in the string, ignoring spaces and non-alphabetic characters."
      ]
    },
    {
      "cell_type": "code",
      "execution_count": null,
      "metadata": {
        "id": "ZnoxhSglQs3d",
        "colab": {
          "base_uri": "https://localhost:8080/"
        },
        "outputId": "747d718f-170b-4460-8f63-abf93a620a6c"
      },
      "outputs": [
        {
          "output_type": "stream",
          "name": "stdout",
          "text": [
            "3\n",
            "4\n",
            "10\n"
          ]
        }
      ],
      "source": [
        "# write your answer here\n",
        "def count_vowels(text: str) -> int:\n",
        "    \"\"\"\n",
        "    Counts the number of vowels in the input string.\n",
        "    \"\"\"\n",
        "    vowels = set(\"aeiouAEIOU\")\n",
        "    count = 0\n",
        "    for ch in text:\n",
        "        if ch.isalpha() and ch in vowels:\n",
        "            count += 1\n",
        "    return count\n",
        "\n",
        "s1 = \"Hello World!\"\n",
        "s2 = \"Python Programming 101\"\n",
        "s3 = \"AEIOU and sometimes y...\"\n",
        "\n",
        "print(count_vowels(s1))\n",
        "print(count_vowels(s2))\n",
        "print(count_vowels(s3))\n",
        "\n"
      ]
    },
    {
      "cell_type": "markdown",
      "metadata": {
        "id": "55FWoSJPVVM6"
      },
      "source": [
        "## Question 18\n",
        "Create a custom exception named ValueTooSmallError in Python. Write a program that takes user input for an age, and if the entered age is less than 18, raise the ValueTooSmallError with an appropriate error message."
      ]
    },
    {
      "cell_type": "code",
      "execution_count": null,
      "metadata": {
        "id": "hwtr1wZmVX5A",
        "colab": {
          "base_uri": "https://localhost:8080/"
        },
        "outputId": "5fa6ce2b-e578-4861-b541-8bee450882e9"
      },
      "outputs": [
        {
          "output_type": "stream",
          "name": "stdout",
          "text": [
            "Enter your age: 41\n",
            "Age accepted! You are eligible.\n"
          ]
        }
      ],
      "source": [
        "# write your answer here\n",
        "class ValueTooSmallError(Exception):\n",
        "    \"\"\"Raised when the input value is smaller than the allowed limit.\"\"\"\n",
        "    def __init__(self, message=\"Age must be at least 18.\"):\n",
        "        self.message = message\n",
        "        super().__init__(self.message)\n",
        "\n",
        "\n",
        "def check_age():\n",
        "    try:\n",
        "        age = int(input(\"Enter your age: \"))\n",
        "        if age < 18:\n",
        "            raise ValueTooSmallError(f\"Invalid age {age}. You must be at least 18.\")\n",
        "        print(\"Age accepted! You are eligible.\")\n",
        "    except ValueTooSmallError as e:\n",
        "        print(\"Error:\", e)\n",
        "    except ValueError:\n",
        "        print(\"Error: Please enter a valid integer.\")\n",
        "\n",
        "\n",
        "# ---- Main ----\n",
        "if __name__ == \"__main__\":\n",
        "    check_age()\n"
      ]
    },
    {
      "cell_type": "markdown",
      "metadata": {
        "id": "Q9ecagcaVazW"
      },
      "source": [
        "## Question 19\n",
        "Develop a script that reverses a given string without using built-in reverse functions."
      ]
    },
    {
      "cell_type": "code",
      "execution_count": null,
      "metadata": {
        "id": "gycgckoAVZjR",
        "colab": {
          "base_uri": "https://localhost:8080/"
        },
        "outputId": "c4b46121-09da-4c55-867e-4bdb2d06d459"
      },
      "outputs": [
        {
          "output_type": "stream",
          "name": "stdout",
          "text": [
            "Enter a string: Hell oWorld\n",
            "Reversed string: dlroWo lleH\n"
          ]
        }
      ],
      "source": [
        "# write your answer here\n",
        "def reverse_string(s: str) -> str:\n",
        "    \"\"\"\n",
        "    Reverses the given string\n",
        "    \"\"\"\n",
        "    reversed_str = \"\"\n",
        "    for ch in s:\n",
        "        reversed_str = ch + reversed_str  # prepend each character\n",
        "    return reversed_str\n",
        "\n",
        "\n",
        "text = input(\"Enter a string: \")\n",
        "print(\"Reversed string:\", reverse_string(text))\n"
      ]
    },
    {
      "cell_type": "markdown",
      "metadata": {
        "id": "ZFG6RibifMLu"
      },
      "source": [
        "## Question 20\n",
        "Implement a Python script to generate a random password of a specified length."
      ]
    },
    {
      "cell_type": "code",
      "execution_count": null,
      "metadata": {
        "id": "BFVrkEi9fNiD",
        "colab": {
          "base_uri": "https://localhost:8080/"
        },
        "outputId": "33bdbc60-55b4-4913-eb7f-7e7d3f0327c8"
      },
      "outputs": [
        {
          "output_type": "stream",
          "name": "stdout",
          "text": [
            "Enter desired password length: 4\n",
            "Generated password: u6F%\n"
          ]
        }
      ],
      "source": [
        "# write your answer here\n",
        "import random\n",
        "import string\n",
        "\n",
        "def generate_password(length: int) -> str:\n",
        "    if length < 4:\n",
        "        raise ValueError(\"Password length must be at least 4 to include all character types.\")\n",
        "\n",
        "    # Character pools\n",
        "    lower = string.ascii_lowercase\n",
        "    upper = string.ascii_uppercase\n",
        "    digits = string.digits\n",
        "    special = string.punctuation\n",
        "\n",
        "    all_chars = lower + upper + digits + special\n",
        "\n",
        "    # Ensure password has at least one of each type\n",
        "    password = [\n",
        "        random.choice(lower),\n",
        "        random.choice(upper),\n",
        "        random.choice(digits),\n",
        "        random.choice(special)\n",
        "    ]\n",
        "\n",
        "    # Fill the rest randomly\n",
        "    password += random.choices(all_chars, k=length - 4)\n",
        "\n",
        "    # Shuffle to avoid predictable order\n",
        "    random.shuffle(password)\n",
        "\n",
        "    return \"\".join(password)\n",
        "\n",
        "\n",
        "# ---- Example usage ----\n",
        "if __name__ == \"__main__\":\n",
        "    n = int(input(\"Enter desired password length: \"))\n",
        "    print(\"Generated password:\", generate_password(n))\n"
      ]
    },
    {
      "cell_type": "markdown",
      "metadata": {
        "id": "6SmvS7nSfbj8"
      },
      "source": [
        "# Try these questions"
      ]
    },
    {
      "cell_type": "markdown",
      "metadata": {
        "id": "cboAr5pEWUf5"
      },
      "source": [
        "(21) Define a base class called 'Vehicle' with attributes make and model. Create a derived class Car that inherits from Vehicle and has an additional attribute 'num_doors'. Demonstrate an example of creating an instance of the 'Car' class and accessing its attributes."
      ]
    },
    {
      "cell_type": "code",
      "execution_count": null,
      "metadata": {
        "id": "phs9gciMWWAW",
        "colab": {
          "base_uri": "https://localhost:8080/"
        },
        "outputId": "c01fb8e8-9de0-43e9-c612-a2a91e6d20ac"
      },
      "outputs": [
        {
          "output_type": "stream",
          "name": "stdout",
          "text": [
            "Make: Toyota\n",
            "Model: Camry\n",
            "Number of doors: 4\n"
          ]
        }
      ],
      "source": [
        "# write your answer here\n",
        "# Base class\n",
        "class Vehicle:\n",
        "    def __init__(self, make: str, model: str):\n",
        "        self.make = make\n",
        "        self.model = model\n",
        "\n",
        "\n",
        "# Derived class\n",
        "class Car(Vehicle):\n",
        "    def __init__(self, make: str, model: str, num_doors: int):\n",
        "        # Call the base class constructor\n",
        "        super().__init__(make, model)\n",
        "        self.num_doors = num_doors\n",
        "\n",
        "\n",
        "# ---- Example usage ----\n",
        "my_car = Car(\"Toyota\", \"Camry\", 4)\n",
        "\n",
        "print(\"Make:\", my_car.make)\n",
        "print(\"Model:\", my_car.model)\n",
        "print(\"Number of doors:\", my_car.num_doors)\n"
      ]
    },
    {
      "cell_type": "markdown",
      "metadata": {
        "id": "J8HHefNtePwd"
      },
      "source": [
        "(22) Create a class called 'Shape' with a method calculate_area(). Implement two derived classes 'Circle' and 'Rectangle' that inherit from Shape and override the calculate_area() method. Demonstrate polymorphism by creating instances of both derived classes and calling the calculate_area() method."
      ]
    },
    {
      "cell_type": "code",
      "execution_count": null,
      "metadata": {
        "id": "btnMmUZDeRhS",
        "colab": {
          "base_uri": "https://localhost:8080/"
        },
        "outputId": "a1c3bd42-3a54-4c6d-e12f-1663c0c3cd9c"
      },
      "outputs": [
        {
          "output_type": "stream",
          "name": "stdout",
          "text": [
            "Circle area: 78.53981633974483\n",
            "Rectangle area: 24\n"
          ]
        }
      ],
      "source": [
        "# write your answer here\n",
        "import math\n",
        "\n",
        "# Base class\n",
        "class Shape:\n",
        "    def calculate_area(self):\n",
        "        raise NotImplementedError(\"Subclass must override calculate_area()\")\n",
        "\n",
        "# Derived class: Circle\n",
        "class Circle(Shape):\n",
        "    def __init__(self, radius: float):\n",
        "        self.radius = radius\n",
        "\n",
        "    def calculate_area(self):\n",
        "        return math.pi * (self.radius ** 2)\n",
        "\n",
        "# Derived class: Rectangle\n",
        "class Rectangle(Shape):\n",
        "    def __init__(self, width: float, height: float):\n",
        "        self.width = width\n",
        "        self.height = height\n",
        "\n",
        "    def calculate_area(self):\n",
        "        return self.width * self.height\n",
        "\n",
        "shapes = [\n",
        "    Circle(5),\n",
        "    Rectangle(4, 6)\n",
        "]\n",
        "\n",
        "for shape in shapes:\n",
        "    print(f\"{shape.__class__.__name__} area:\", shape.calculate_area())\n"
      ]
    },
    {
      "cell_type": "markdown",
      "metadata": {
        "id": "z0oqEAlTeMUS"
      },
      "source": [
        "(23) Write a Python program that prompts the user to enter two numbers and perform a division operation. Handle exceptions for both zero division and invalid input (non-numeric input). Display appropriate error messages for each type of exception and ensure the program does not crash due to these errors."
      ]
    },
    {
      "cell_type": "code",
      "execution_count": null,
      "metadata": {
        "id": "yjdc1zM1eMAs",
        "colab": {
          "base_uri": "https://localhost:8080/"
        },
        "outputId": "08cdc66b-4f47-4ae9-c39f-45911bed4a2d"
      },
      "outputs": [
        {
          "output_type": "stream",
          "name": "stdout",
          "text": [
            "Enter the first number: 60\n",
            "Enter the second number: 6\n",
            "Result: 10.0\n"
          ]
        }
      ],
      "source": [
        "# write your answer here\n",
        "def safe_division():\n",
        "    try:\n",
        "        num1 = float(input(\"Enter the first number: \"))\n",
        "        num2 = float(input(\"Enter the second number: \"))\n",
        "\n",
        "        result = num1 / num2\n",
        "        print(f\"Result: {result}\")\n",
        "\n",
        "    except ZeroDivisionError:\n",
        "        print(\"Error: Division by zero is not allowed.\")\n",
        "    except ValueError:\n",
        "        print(\"Error: Please enter valid numeric values.\")\n",
        "    except Exception as e:\n",
        "        print(\"Unexpected error:\", e)\n",
        "\n",
        "\n",
        "# ---- Main ----\n",
        "if __name__ == \"__main__\":\n",
        "    safe_division()\n"
      ]
    },
    {
      "cell_type": "markdown",
      "metadata": {
        "id": "sZOhks1dXWEe"
      },
      "source": [
        "# Mandatory Question"
      ]
    },
    {
      "cell_type": "markdown",
      "metadata": {
        "id": "eqmHVEwaWhbV"
      },
      "source": [
        "**Important:**\n",
        "Reflecting on the first three lectures and the exercises you've completed, please provide feedback on your learning experience. Share your thoughts on whether the material covered was clear, the exercises were helpful, and if you feel more confident in applying Python programming concepts. Additionally, mention any specific areas where you would like more clarification or topics you would like to explore further in future lectures. Your feedback is valuable in shaping the course for an effective learning journey."
      ]
    },
    {
      "cell_type": "code",
      "execution_count": null,
      "metadata": {
        "id": "akAVJn9YBTQT"
      },
      "outputs": [],
      "source": [
        "'''\n",
        "It's been a great opportunity to revisit foundational Python concepts, the material was clear, and the exercises were helpful in understanding. And it has been a valuable and engaging learning experience.\n",
        "'''"
      ]
    }
  ],
  "metadata": {
    "colab": {
      "provenance": [],
      "include_colab_link": true
    },
    "kernelspec": {
      "display_name": "flwr_exec",
      "language": "python",
      "name": "python3"
    },
    "language_info": {
      "codemirror_mode": {
        "name": "ipython",
        "version": 3
      },
      "file_extension": ".py",
      "mimetype": "text/x-python",
      "name": "python",
      "nbconvert_exporter": "python",
      "pygments_lexer": "ipython3",
      "version": "3.12.4"
    }
  },
  "nbformat": 4,
  "nbformat_minor": 0
}